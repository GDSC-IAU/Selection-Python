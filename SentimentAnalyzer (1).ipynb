{
  "nbformat": 4,
  "nbformat_minor": 0,
  "metadata": {
    "colab": {
      "provenance": []
    },
    "kernelspec": {
      "name": "python3",
      "display_name": "Python 3"
    },
    "language_info": {
      "name": "python"
    }
  },
  "cells": [
    {
      "cell_type": "code",
      "execution_count": 1,
      "metadata": {
        "id": "rjOZkFLgQhAu"
      },
      "outputs": [],
      "source": [
        "import pandas as pd\n",
        "import textblob\n",
        "import matplotlib.pyplot as plt\n",
        "import seaborn as sns"
      ]
    },
    {
      "cell_type": "code",
      "source": [
        "def analyze_sentiment(text):\n",
        "    blob = textblob.TextBlob(text)\n",
        "    polarity = blob.sentiment.polarity\n",
        "    if polarity < -0.2:\n",
        "        return \"negative\"\n",
        "    elif polarity > 0.2:\n",
        "        return \"positive\"\n",
        "    else:\n",
        "        return \"neutral\"\n",
        "\n",
        "def run_tests():\n",
        "    positive_tests = [\"Happy\", \"Exciting\", \"good\", \"rich\", \"smile\"]\n",
        "    negative_tests = [\"Sad\", \"disappointed\", \"bad\", \"poor\", \"anger\"]\n",
        "    neutral_tests = [\"food\", \"animal\"]\n",
        "\n",
        "    for word in positive_tests:\n",
        "        assert analyze_sentiment(word) == \"positive\", f\"Word: {word} - Expected: positive\"\n",
        "\n",
        "    for word in negative_tests:\n",
        "        assert analyze_sentiment(word) == \"negative\", f\"Word: {word} - Expected: negative\"\n",
        "\n",
        "    for word in neutral_tests:\n",
        "        assert analyze_sentiment(word) == \"neutral\", f\"Word: {word} - Expected: neutral\"\n",
        "\n",
        "    print(\"All tests passed\")\n",
        "\n",
        "run_tests()"
      ],
      "metadata": {
        "colab": {
          "base_uri": "https://localhost:8080/"
        },
        "id": "1VXFuB0qSoRC",
        "outputId": "3235e841-4a39-499b-d8a8-e4eee5acbd16"
      },
      "execution_count": 10,
      "outputs": [
        {
          "output_type": "stream",
          "name": "stdout",
          "text": [
            "All tests passed\n"
          ]
        }
      ]
    },
    {
      "cell_type": "code",
      "source": [
        "df = pd.read_csv(\"/content/data.csv\")\n",
        "\n",
        "productDF = df[df[\"id\"] == \"AVqkIhwDv8e3D1O-lebb\"]\n",
        "productDF.head()"
      ],
      "metadata": {
        "colab": {
          "base_uri": "https://localhost:8080/",
          "height": 810
        },
        "id": "uAh_W_BhQ4Gx",
        "outputId": "9be9ce87-9e44-418a-9c78-8c11bced62a4"
      },
      "execution_count": 7,
      "outputs": [
        {
          "output_type": "stream",
          "name": "stderr",
          "text": [
            "<ipython-input-7-56e19e62b5d1>:1: DtypeWarning: Columns (1,10) have mixed types. Specify dtype option on import or set low_memory=False.\n",
            "  df = pd.read_csv(\"/content/data.csv\")\n"
          ]
        },
        {
          "output_type": "execute_result",
          "data": {
            "text/plain": [
              "                     id                                               name  \\\n",
              "0  AVqkIhwDv8e3D1O-lebb  All-New Fire HD 8 Tablet, 8 HD Display, Wi-Fi,...   \n",
              "1  AVqkIhwDv8e3D1O-lebb  All-New Fire HD 8 Tablet, 8 HD Display, Wi-Fi,...   \n",
              "2  AVqkIhwDv8e3D1O-lebb  All-New Fire HD 8 Tablet, 8 HD Display, Wi-Fi,...   \n",
              "3  AVqkIhwDv8e3D1O-lebb  All-New Fire HD 8 Tablet, 8 HD Display, Wi-Fi,...   \n",
              "4  AVqkIhwDv8e3D1O-lebb  All-New Fire HD 8 Tablet, 8 HD Display, Wi-Fi,...   \n",
              "\n",
              "        asins   brand                                         categories  \\\n",
              "0  B01AHB9CN2  Amazon  Electronics,iPad & Tablets,All Tablets,Fire Ta...   \n",
              "1  B01AHB9CN2  Amazon  Electronics,iPad & Tablets,All Tablets,Fire Ta...   \n",
              "2  B01AHB9CN2  Amazon  Electronics,iPad & Tablets,All Tablets,Fire Ta...   \n",
              "3  B01AHB9CN2  Amazon  Electronics,iPad & Tablets,All Tablets,Fire Ta...   \n",
              "4  B01AHB9CN2  Amazon  Electronics,iPad & Tablets,All Tablets,Fire Ta...   \n",
              "\n",
              "                                                keys manufacturer  \\\n",
              "0  841667104676,amazon/53004484,amazon/b01ahb9cn2...       Amazon   \n",
              "1  841667104676,amazon/53004484,amazon/b01ahb9cn2...       Amazon   \n",
              "2  841667104676,amazon/53004484,amazon/b01ahb9cn2...       Amazon   \n",
              "3  841667104676,amazon/53004484,amazon/b01ahb9cn2...       Amazon   \n",
              "4  841667104676,amazon/53004484,amazon/b01ahb9cn2...       Amazon   \n",
              "\n",
              "               reviews.date     reviews.dateAdded  \\\n",
              "0  2017-01-13T00:00:00.000Z  2017-07-03T23:33:15Z   \n",
              "1  2017-01-13T00:00:00.000Z  2017-07-03T23:33:15Z   \n",
              "2  2017-01-13T00:00:00.000Z  2017-07-03T23:33:15Z   \n",
              "3  2017-01-13T00:00:00.000Z  2017-07-03T23:33:15Z   \n",
              "4  2017-01-12T00:00:00.000Z  2017-07-03T23:33:15Z   \n",
              "\n",
              "                                    reviews.dateSeen  ... reviews.doRecommend  \\\n",
              "0  2017-06-07T09:04:00.000Z,2017-04-30T00:45:00.000Z  ...                True   \n",
              "1  2017-06-07T09:04:00.000Z,2017-04-30T00:45:00.000Z  ...                True   \n",
              "2  2017-06-07T09:04:00.000Z,2017-04-30T00:45:00.000Z  ...                True   \n",
              "3  2017-06-07T09:04:00.000Z,2017-04-30T00:45:00.000Z  ...                True   \n",
              "4  2017-06-07T09:04:00.000Z,2017-04-30T00:45:00.000Z  ...                True   \n",
              "\n",
              "  reviews.id  reviews.numHelpful  reviews.rating  \\\n",
              "0        NaN                 0.0             5.0   \n",
              "1        NaN                 0.0             5.0   \n",
              "2        NaN                 0.0             5.0   \n",
              "3        NaN                 0.0             4.0   \n",
              "4        NaN                 0.0             5.0   \n",
              "\n",
              "                                  reviews.sourceURLs  \\\n",
              "0  http://reviews.bestbuy.com/3545/5620406/review...   \n",
              "1  http://reviews.bestbuy.com/3545/5620406/review...   \n",
              "2  http://reviews.bestbuy.com/3545/5620406/review...   \n",
              "3  http://reviews.bestbuy.com/3545/5620406/review...   \n",
              "4  http://reviews.bestbuy.com/3545/5620406/review...   \n",
              "\n",
              "                                        reviews.text  \\\n",
              "0  This product so far has not disappointed. My c...   \n",
              "1  great for beginner or experienced person. Boug...   \n",
              "2  Inexpensive tablet for him to use and learn on...   \n",
              "3  I've had my Fire HD 8 two weeks now and I love...   \n",
              "4  I bought this for my grand daughter when she c...   \n",
              "\n",
              "                             reviews.title reviews.userCity  \\\n",
              "0                                   Kindle              NaN   \n",
              "1                                very fast              NaN   \n",
              "2  Beginner tablet for our 9 year old son.              NaN   \n",
              "3                                  Good!!!              NaN   \n",
              "4                Fantastic Tablet for kids              NaN   \n",
              "\n",
              "   reviews.userProvince  reviews.username  \n",
              "0                   NaN           Adapter  \n",
              "1                   NaN            truman  \n",
              "2                   NaN             DaveZ  \n",
              "3                   NaN            Shacks  \n",
              "4                   NaN         explore42  \n",
              "\n",
              "[5 rows x 21 columns]"
            ],
            "text/html": [
              "\n",
              "  <div id=\"df-de5d8ecd-d7d9-433a-963e-6011fa426a1e\" class=\"colab-df-container\">\n",
              "    <div>\n",
              "<style scoped>\n",
              "    .dataframe tbody tr th:only-of-type {\n",
              "        vertical-align: middle;\n",
              "    }\n",
              "\n",
              "    .dataframe tbody tr th {\n",
              "        vertical-align: top;\n",
              "    }\n",
              "\n",
              "    .dataframe thead th {\n",
              "        text-align: right;\n",
              "    }\n",
              "</style>\n",
              "<table border=\"1\" class=\"dataframe\">\n",
              "  <thead>\n",
              "    <tr style=\"text-align: right;\">\n",
              "      <th></th>\n",
              "      <th>id</th>\n",
              "      <th>name</th>\n",
              "      <th>asins</th>\n",
              "      <th>brand</th>\n",
              "      <th>categories</th>\n",
              "      <th>keys</th>\n",
              "      <th>manufacturer</th>\n",
              "      <th>reviews.date</th>\n",
              "      <th>reviews.dateAdded</th>\n",
              "      <th>reviews.dateSeen</th>\n",
              "      <th>...</th>\n",
              "      <th>reviews.doRecommend</th>\n",
              "      <th>reviews.id</th>\n",
              "      <th>reviews.numHelpful</th>\n",
              "      <th>reviews.rating</th>\n",
              "      <th>reviews.sourceURLs</th>\n",
              "      <th>reviews.text</th>\n",
              "      <th>reviews.title</th>\n",
              "      <th>reviews.userCity</th>\n",
              "      <th>reviews.userProvince</th>\n",
              "      <th>reviews.username</th>\n",
              "    </tr>\n",
              "  </thead>\n",
              "  <tbody>\n",
              "    <tr>\n",
              "      <th>0</th>\n",
              "      <td>AVqkIhwDv8e3D1O-lebb</td>\n",
              "      <td>All-New Fire HD 8 Tablet, 8 HD Display, Wi-Fi,...</td>\n",
              "      <td>B01AHB9CN2</td>\n",
              "      <td>Amazon</td>\n",
              "      <td>Electronics,iPad &amp; Tablets,All Tablets,Fire Ta...</td>\n",
              "      <td>841667104676,amazon/53004484,amazon/b01ahb9cn2...</td>\n",
              "      <td>Amazon</td>\n",
              "      <td>2017-01-13T00:00:00.000Z</td>\n",
              "      <td>2017-07-03T23:33:15Z</td>\n",
              "      <td>2017-06-07T09:04:00.000Z,2017-04-30T00:45:00.000Z</td>\n",
              "      <td>...</td>\n",
              "      <td>True</td>\n",
              "      <td>NaN</td>\n",
              "      <td>0.0</td>\n",
              "      <td>5.0</td>\n",
              "      <td>http://reviews.bestbuy.com/3545/5620406/review...</td>\n",
              "      <td>This product so far has not disappointed. My c...</td>\n",
              "      <td>Kindle</td>\n",
              "      <td>NaN</td>\n",
              "      <td>NaN</td>\n",
              "      <td>Adapter</td>\n",
              "    </tr>\n",
              "    <tr>\n",
              "      <th>1</th>\n",
              "      <td>AVqkIhwDv8e3D1O-lebb</td>\n",
              "      <td>All-New Fire HD 8 Tablet, 8 HD Display, Wi-Fi,...</td>\n",
              "      <td>B01AHB9CN2</td>\n",
              "      <td>Amazon</td>\n",
              "      <td>Electronics,iPad &amp; Tablets,All Tablets,Fire Ta...</td>\n",
              "      <td>841667104676,amazon/53004484,amazon/b01ahb9cn2...</td>\n",
              "      <td>Amazon</td>\n",
              "      <td>2017-01-13T00:00:00.000Z</td>\n",
              "      <td>2017-07-03T23:33:15Z</td>\n",
              "      <td>2017-06-07T09:04:00.000Z,2017-04-30T00:45:00.000Z</td>\n",
              "      <td>...</td>\n",
              "      <td>True</td>\n",
              "      <td>NaN</td>\n",
              "      <td>0.0</td>\n",
              "      <td>5.0</td>\n",
              "      <td>http://reviews.bestbuy.com/3545/5620406/review...</td>\n",
              "      <td>great for beginner or experienced person. Boug...</td>\n",
              "      <td>very fast</td>\n",
              "      <td>NaN</td>\n",
              "      <td>NaN</td>\n",
              "      <td>truman</td>\n",
              "    </tr>\n",
              "    <tr>\n",
              "      <th>2</th>\n",
              "      <td>AVqkIhwDv8e3D1O-lebb</td>\n",
              "      <td>All-New Fire HD 8 Tablet, 8 HD Display, Wi-Fi,...</td>\n",
              "      <td>B01AHB9CN2</td>\n",
              "      <td>Amazon</td>\n",
              "      <td>Electronics,iPad &amp; Tablets,All Tablets,Fire Ta...</td>\n",
              "      <td>841667104676,amazon/53004484,amazon/b01ahb9cn2...</td>\n",
              "      <td>Amazon</td>\n",
              "      <td>2017-01-13T00:00:00.000Z</td>\n",
              "      <td>2017-07-03T23:33:15Z</td>\n",
              "      <td>2017-06-07T09:04:00.000Z,2017-04-30T00:45:00.000Z</td>\n",
              "      <td>...</td>\n",
              "      <td>True</td>\n",
              "      <td>NaN</td>\n",
              "      <td>0.0</td>\n",
              "      <td>5.0</td>\n",
              "      <td>http://reviews.bestbuy.com/3545/5620406/review...</td>\n",
              "      <td>Inexpensive tablet for him to use and learn on...</td>\n",
              "      <td>Beginner tablet for our 9 year old son.</td>\n",
              "      <td>NaN</td>\n",
              "      <td>NaN</td>\n",
              "      <td>DaveZ</td>\n",
              "    </tr>\n",
              "    <tr>\n",
              "      <th>3</th>\n",
              "      <td>AVqkIhwDv8e3D1O-lebb</td>\n",
              "      <td>All-New Fire HD 8 Tablet, 8 HD Display, Wi-Fi,...</td>\n",
              "      <td>B01AHB9CN2</td>\n",
              "      <td>Amazon</td>\n",
              "      <td>Electronics,iPad &amp; Tablets,All Tablets,Fire Ta...</td>\n",
              "      <td>841667104676,amazon/53004484,amazon/b01ahb9cn2...</td>\n",
              "      <td>Amazon</td>\n",
              "      <td>2017-01-13T00:00:00.000Z</td>\n",
              "      <td>2017-07-03T23:33:15Z</td>\n",
              "      <td>2017-06-07T09:04:00.000Z,2017-04-30T00:45:00.000Z</td>\n",
              "      <td>...</td>\n",
              "      <td>True</td>\n",
              "      <td>NaN</td>\n",
              "      <td>0.0</td>\n",
              "      <td>4.0</td>\n",
              "      <td>http://reviews.bestbuy.com/3545/5620406/review...</td>\n",
              "      <td>I've had my Fire HD 8 two weeks now and I love...</td>\n",
              "      <td>Good!!!</td>\n",
              "      <td>NaN</td>\n",
              "      <td>NaN</td>\n",
              "      <td>Shacks</td>\n",
              "    </tr>\n",
              "    <tr>\n",
              "      <th>4</th>\n",
              "      <td>AVqkIhwDv8e3D1O-lebb</td>\n",
              "      <td>All-New Fire HD 8 Tablet, 8 HD Display, Wi-Fi,...</td>\n",
              "      <td>B01AHB9CN2</td>\n",
              "      <td>Amazon</td>\n",
              "      <td>Electronics,iPad &amp; Tablets,All Tablets,Fire Ta...</td>\n",
              "      <td>841667104676,amazon/53004484,amazon/b01ahb9cn2...</td>\n",
              "      <td>Amazon</td>\n",
              "      <td>2017-01-12T00:00:00.000Z</td>\n",
              "      <td>2017-07-03T23:33:15Z</td>\n",
              "      <td>2017-06-07T09:04:00.000Z,2017-04-30T00:45:00.000Z</td>\n",
              "      <td>...</td>\n",
              "      <td>True</td>\n",
              "      <td>NaN</td>\n",
              "      <td>0.0</td>\n",
              "      <td>5.0</td>\n",
              "      <td>http://reviews.bestbuy.com/3545/5620406/review...</td>\n",
              "      <td>I bought this for my grand daughter when she c...</td>\n",
              "      <td>Fantastic Tablet for kids</td>\n",
              "      <td>NaN</td>\n",
              "      <td>NaN</td>\n",
              "      <td>explore42</td>\n",
              "    </tr>\n",
              "  </tbody>\n",
              "</table>\n",
              "<p>5 rows × 21 columns</p>\n",
              "</div>\n",
              "    <div class=\"colab-df-buttons\">\n",
              "\n",
              "  <div class=\"colab-df-container\">\n",
              "    <button class=\"colab-df-convert\" onclick=\"convertToInteractive('df-de5d8ecd-d7d9-433a-963e-6011fa426a1e')\"\n",
              "            title=\"Convert this dataframe to an interactive table.\"\n",
              "            style=\"display:none;\">\n",
              "\n",
              "  <svg xmlns=\"http://www.w3.org/2000/svg\" height=\"24px\" viewBox=\"0 -960 960 960\">\n",
              "    <path d=\"M120-120v-720h720v720H120Zm60-500h600v-160H180v160Zm220 220h160v-160H400v160Zm0 220h160v-160H400v160ZM180-400h160v-160H180v160Zm440 0h160v-160H620v160ZM180-180h160v-160H180v160Zm440 0h160v-160H620v160Z\"/>\n",
              "  </svg>\n",
              "    </button>\n",
              "\n",
              "  <style>\n",
              "    .colab-df-container {\n",
              "      display:flex;\n",
              "      gap: 12px;\n",
              "    }\n",
              "\n",
              "    .colab-df-convert {\n",
              "      background-color: #E8F0FE;\n",
              "      border: none;\n",
              "      border-radius: 50%;\n",
              "      cursor: pointer;\n",
              "      display: none;\n",
              "      fill: #1967D2;\n",
              "      height: 32px;\n",
              "      padding: 0 0 0 0;\n",
              "      width: 32px;\n",
              "    }\n",
              "\n",
              "    .colab-df-convert:hover {\n",
              "      background-color: #E2EBFA;\n",
              "      box-shadow: 0px 1px 2px rgba(60, 64, 67, 0.3), 0px 1px 3px 1px rgba(60, 64, 67, 0.15);\n",
              "      fill: #174EA6;\n",
              "    }\n",
              "\n",
              "    .colab-df-buttons div {\n",
              "      margin-bottom: 4px;\n",
              "    }\n",
              "\n",
              "    [theme=dark] .colab-df-convert {\n",
              "      background-color: #3B4455;\n",
              "      fill: #D2E3FC;\n",
              "    }\n",
              "\n",
              "    [theme=dark] .colab-df-convert:hover {\n",
              "      background-color: #434B5C;\n",
              "      box-shadow: 0px 1px 3px 1px rgba(0, 0, 0, 0.15);\n",
              "      filter: drop-shadow(0px 1px 2px rgba(0, 0, 0, 0.3));\n",
              "      fill: #FFFFFF;\n",
              "    }\n",
              "  </style>\n",
              "\n",
              "    <script>\n",
              "      const buttonEl =\n",
              "        document.querySelector('#df-de5d8ecd-d7d9-433a-963e-6011fa426a1e button.colab-df-convert');\n",
              "      buttonEl.style.display =\n",
              "        google.colab.kernel.accessAllowed ? 'block' : 'none';\n",
              "\n",
              "      async function convertToInteractive(key) {\n",
              "        const element = document.querySelector('#df-de5d8ecd-d7d9-433a-963e-6011fa426a1e');\n",
              "        const dataTable =\n",
              "          await google.colab.kernel.invokeFunction('convertToInteractive',\n",
              "                                                    [key], {});\n",
              "        if (!dataTable) return;\n",
              "\n",
              "        const docLinkHtml = 'Like what you see? Visit the ' +\n",
              "          '<a target=\"_blank\" href=https://colab.research.google.com/notebooks/data_table.ipynb>data table notebook</a>'\n",
              "          + ' to learn more about interactive tables.';\n",
              "        element.innerHTML = '';\n",
              "        dataTable['output_type'] = 'display_data';\n",
              "        await google.colab.output.renderOutput(dataTable, element);\n",
              "        const docLink = document.createElement('div');\n",
              "        docLink.innerHTML = docLinkHtml;\n",
              "        element.appendChild(docLink);\n",
              "      }\n",
              "    </script>\n",
              "  </div>\n",
              "\n",
              "\n",
              "<div id=\"df-7a255f03-ceb9-4c78-9a4a-73fd88c550c2\">\n",
              "  <button class=\"colab-df-quickchart\" onclick=\"quickchart('df-7a255f03-ceb9-4c78-9a4a-73fd88c550c2')\"\n",
              "            title=\"Suggest charts\"\n",
              "            style=\"display:none;\">\n",
              "\n",
              "<svg xmlns=\"http://www.w3.org/2000/svg\" height=\"24px\"viewBox=\"0 0 24 24\"\n",
              "     width=\"24px\">\n",
              "    <g>\n",
              "        <path d=\"M19 3H5c-1.1 0-2 .9-2 2v14c0 1.1.9 2 2 2h14c1.1 0 2-.9 2-2V5c0-1.1-.9-2-2-2zM9 17H7v-7h2v7zm4 0h-2V7h2v10zm4 0h-2v-4h2v4z\"/>\n",
              "    </g>\n",
              "</svg>\n",
              "  </button>\n",
              "\n",
              "<style>\n",
              "  .colab-df-quickchart {\n",
              "      --bg-color: #E8F0FE;\n",
              "      --fill-color: #1967D2;\n",
              "      --hover-bg-color: #E2EBFA;\n",
              "      --hover-fill-color: #174EA6;\n",
              "      --disabled-fill-color: #AAA;\n",
              "      --disabled-bg-color: #DDD;\n",
              "  }\n",
              "\n",
              "  [theme=dark] .colab-df-quickchart {\n",
              "      --bg-color: #3B4455;\n",
              "      --fill-color: #D2E3FC;\n",
              "      --hover-bg-color: #434B5C;\n",
              "      --hover-fill-color: #FFFFFF;\n",
              "      --disabled-bg-color: #3B4455;\n",
              "      --disabled-fill-color: #666;\n",
              "  }\n",
              "\n",
              "  .colab-df-quickchart {\n",
              "    background-color: var(--bg-color);\n",
              "    border: none;\n",
              "    border-radius: 50%;\n",
              "    cursor: pointer;\n",
              "    display: none;\n",
              "    fill: var(--fill-color);\n",
              "    height: 32px;\n",
              "    padding: 0;\n",
              "    width: 32px;\n",
              "  }\n",
              "\n",
              "  .colab-df-quickchart:hover {\n",
              "    background-color: var(--hover-bg-color);\n",
              "    box-shadow: 0 1px 2px rgba(60, 64, 67, 0.3), 0 1px 3px 1px rgba(60, 64, 67, 0.15);\n",
              "    fill: var(--button-hover-fill-color);\n",
              "  }\n",
              "\n",
              "  .colab-df-quickchart-complete:disabled,\n",
              "  .colab-df-quickchart-complete:disabled:hover {\n",
              "    background-color: var(--disabled-bg-color);\n",
              "    fill: var(--disabled-fill-color);\n",
              "    box-shadow: none;\n",
              "  }\n",
              "\n",
              "  .colab-df-spinner {\n",
              "    border: 2px solid var(--fill-color);\n",
              "    border-color: transparent;\n",
              "    border-bottom-color: var(--fill-color);\n",
              "    animation:\n",
              "      spin 1s steps(1) infinite;\n",
              "  }\n",
              "\n",
              "  @keyframes spin {\n",
              "    0% {\n",
              "      border-color: transparent;\n",
              "      border-bottom-color: var(--fill-color);\n",
              "      border-left-color: var(--fill-color);\n",
              "    }\n",
              "    20% {\n",
              "      border-color: transparent;\n",
              "      border-left-color: var(--fill-color);\n",
              "      border-top-color: var(--fill-color);\n",
              "    }\n",
              "    30% {\n",
              "      border-color: transparent;\n",
              "      border-left-color: var(--fill-color);\n",
              "      border-top-color: var(--fill-color);\n",
              "      border-right-color: var(--fill-color);\n",
              "    }\n",
              "    40% {\n",
              "      border-color: transparent;\n",
              "      border-right-color: var(--fill-color);\n",
              "      border-top-color: var(--fill-color);\n",
              "    }\n",
              "    60% {\n",
              "      border-color: transparent;\n",
              "      border-right-color: var(--fill-color);\n",
              "    }\n",
              "    80% {\n",
              "      border-color: transparent;\n",
              "      border-right-color: var(--fill-color);\n",
              "      border-bottom-color: var(--fill-color);\n",
              "    }\n",
              "    90% {\n",
              "      border-color: transparent;\n",
              "      border-bottom-color: var(--fill-color);\n",
              "    }\n",
              "  }\n",
              "</style>\n",
              "\n",
              "  <script>\n",
              "    async function quickchart(key) {\n",
              "      const quickchartButtonEl =\n",
              "        document.querySelector('#' + key + ' button');\n",
              "      quickchartButtonEl.disabled = true;  // To prevent multiple clicks.\n",
              "      quickchartButtonEl.classList.add('colab-df-spinner');\n",
              "      try {\n",
              "        const charts = await google.colab.kernel.invokeFunction(\n",
              "            'suggestCharts', [key], {});\n",
              "      } catch (error) {\n",
              "        console.error('Error during call to suggestCharts:', error);\n",
              "      }\n",
              "      quickchartButtonEl.classList.remove('colab-df-spinner');\n",
              "      quickchartButtonEl.classList.add('colab-df-quickchart-complete');\n",
              "    }\n",
              "    (() => {\n",
              "      let quickchartButtonEl =\n",
              "        document.querySelector('#df-7a255f03-ceb9-4c78-9a4a-73fd88c550c2 button');\n",
              "      quickchartButtonEl.style.display =\n",
              "        google.colab.kernel.accessAllowed ? 'block' : 'none';\n",
              "    })();\n",
              "  </script>\n",
              "</div>\n",
              "\n",
              "    </div>\n",
              "  </div>\n"
            ],
            "application/vnd.google.colaboratory.intrinsic+json": {
              "type": "dataframe",
              "variable_name": "productDF"
            }
          },
          "metadata": {},
          "execution_count": 7
        }
      ]
    },
    {
      "cell_type": "code",
      "source": [
        "relevant_columns = ['id', 'name', 'reviews.text', 'reviews.rating']\n",
        "productDF = productDF[relevant_columns]"
      ],
      "metadata": {
        "id": "wNF1wnAiSAqY"
      },
      "execution_count": 8,
      "outputs": []
    },
    {
      "cell_type": "code",
      "source": [
        "productDF[\"sentiment\"] = productDF[\"reviews.text\"].apply(analyze_sentiment)\n"
      ],
      "metadata": {
        "id": "WGrYWEHSSHg6"
      },
      "execution_count": 11,
      "outputs": []
    },
    {
      "cell_type": "code",
      "source": [
        "plt.figure(figsize=(8, 4))\n",
        "productDF[\"sentiment\"].value_counts().plot(kind=\"bar\", color=['green', 'red', 'blue'])\n",
        "plt.title(\"Sentiment Distribution\")\n",
        "plt.xlabel(\"Sentiment\")\n",
        "plt.ylabel(\"Count\")\n",
        "plt.show()"
      ],
      "metadata": {
        "colab": {
          "base_uri": "https://localhost:8080/",
          "height": 457
        },
        "id": "4sxdYypsSzDM",
        "outputId": "24fc030b-6801-4779-9a0f-227f7654deae"
      },
      "execution_count": 12,
      "outputs": [
        {
          "output_type": "display_data",
          "data": {
            "text/plain": [
              "<Figure size 800x400 with 1 Axes>"
            ],
            "image/png": "[encoded data removed]"
          },
          "metadata": {}
        }
      ]
    },
    {
      "cell_type": "code",
      "source": [
        "plt.figure(figsize=(6, 6))\n",
        "productDF[\"sentiment\"].value_counts().plot(kind=\"pie\", autopct='%1.1f%%')\n",
        "plt.title(\"Sentiment Proportion\")\n",
        "plt.show()"
      ],
      "metadata": {
        "colab": {
          "base_uri": "https://localhost:8080/",
          "height": 521
        },
        "id": "JHLU_VBUS35l",
        "outputId": "ee06de79-76f2-427b-92f4-982c8e9d0752"
      },
      "execution_count": 13,
      "outputs": [
        {
          "output_type": "display_data",
          "data": {
            "text/plain": [
              "<Figure size 600x600 with 1 Axes>"
            ],
            "image/png": "[encoded data removed]"
          },
          "metadata": {}
        }
      ]
    },
    {
      "cell_type": "code",
      "source": [
        "sns.lineplot(data=productDF[\"sentiment\"].value_counts().sort_index())\n",
        "plt.title(\"Trend of Sentiments\")\n",
        "plt.xlabel(\"Sentiment\")\n",
        "plt.ylabel(\"Count\")\n",
        "plt.show()"
      ],
      "metadata": {
        "colab": {
          "base_uri": "https://localhost:8080/",
          "height": 472
        },
        "id": "2c_25FhTS_O6",
        "outputId": "25ab6cfd-583f-4b64-93db-dae5c192d0f8"
      },
      "execution_count": 14,
      "outputs": [
        {
          "output_type": "display_data",
          "data": {
            "text/plain": [
              "<Figure size 640x480 with 1 Axes>"
            ],
            "image/png": "[encoded data removed]"
          },
          "metadata": {}
        }
      ]
    },
    {
      "cell_type": "code",
      "source": [
        "sns.scatterplot(data=productDF, x=\"reviews.rating\", y=\"sentiment\", alpha=0.6)\n",
        "plt.title(\"Sentiment vs. Rating\")\n",
        "plt.xlabel(\"Rating\")\n",
        "plt.ylabel(\"Sentiment\")\n",
        "plt.show()"
      ],
      "metadata": {
        "colab": {
          "base_uri": "https://localhost:8080/",
          "height": 472
        },
        "id": "MQKACiyeTDTh",
        "outputId": "8f64d1af-23b6-4c19-bbae-85a33654947a"
      },
      "execution_count": 15,
      "outputs": [
        {
          "output_type": "display_data",
          "data": {
            "text/plain": [
              "<Figure size 640x480 with 1 Axes>"
            ],
            "image/png": "[encoded data removed]"
          },
          "metadata": {}
        }
      ]
    },
    {
      "cell_type": "code",
      "source": [
        "print(\"Product Name:\", productDF[\"name\"].iloc[0])\n",
        "print(\"Number of reviews:\", len(productDF))\n",
        "print(\"Number of positive reviews:\", len(productDF[productDF[\"sentiment\"] == \"positive\"]))\n",
        "print(\"Number of negative reviews:\", len(productDF[productDF[\"sentiment\"] == \"negative\"]))\n"
      ],
      "metadata": {
        "colab": {
          "base_uri": "https://localhost:8080/"
        },
        "id": "B0i3XkSkTH93",
        "outputId": "abd444c6-1b9b-44de-cca6-70a868946261"
      },
      "execution_count": 16,
      "outputs": [
        {
          "output_type": "stream",
          "name": "stdout",
          "text": [
            "Product Name: All-New Fire HD 8 Tablet, 8 HD Display, Wi-Fi, 16 GB - Includes Special Offers, Magenta\n",
            "Number of reviews: 2814\n",
            "Number of positive reviews: 2147\n",
            "Number of negative reviews: 23\n"
          ]
        }
      ]
    },
    {
      "cell_type": "code",
      "source": [
        "productDF.to_csv(\"product_modified.csv\")\n"
      ],
      "metadata": {
        "id": "8qmbvu0FTLqY"
      },
      "execution_count": 17,
      "outputs": []
    }
  ]
}