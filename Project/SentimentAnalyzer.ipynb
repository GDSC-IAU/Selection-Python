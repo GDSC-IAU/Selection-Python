{
 "cells": [
  {
   "cell_type": "code",
   "execution_count": null,
   "metadata": {},
   "outputs": [],
   "source": [
    "from textblob import TextBlob\n",
    "import pandas as pd\n",
    "# Create a TextBlob object\n",
    "def analyze_sentiment(text):\n",
    "    blob = TextBlob(text)\n",
    "    sentiment_score = blob.sentiment.polarity\n",
    "    \n",
    "    if sentiment_score > 0:\n",
    "        return 'Positive'\n",
    "    elif sentiment_score < 0:\n",
    "        return 'Negative'\n",
    "    else:\n",
    "        return 'Neutral'\n",
    "\n",
    "# Read the CSV file\n",
    "df = pd.read_csv('data.csv')\n",
    "\n",
    "# Specify the product ID for analysis\n",
    "product_id = 'AVqkIhwDv8e3D1O-lebb'\n",
    "\n",
    "# Filter the dataframe for the specific product ID\n",
    "df_product = df[df['product_id'] == product_id]\n",
    "\n",
    "# Get the name of the product\n",
    "product_name = df_product['name'].iloc[0]\n",
    "\n",
    "# Apply the sentiment analysis function to each text in the filtered dataframe\n",
    "df_product['sentiment'] = df_product['reviews.text'].apply(analyze_sentiment)\n",
    "\n",
    "# Count the number of each sentiment\n",
    "positive = (df_product['sentiment'] == 'Positive').sum()\n",
    "negative = (df_product['sentiment'] == 'Negative').sum()\n",
    "neutral = (df_product['sentiment'] == 'Neutral').sum()\n",
    "\n",
    "print(f\"The product with Name {product_name} has {positive} positive reviews, {negative} negative reviews, and {neutral} neutral reviews\")"
   ]
  }
 ],
 "metadata": {
  "language_info": {
   "name": "python"
  }
 },
 "nbformat": 4,
 "nbformat_minor": 2
}
