{
 "cells": [
  {
   "cell_type": "code",
   "execution_count": 55,
   "metadata": {},
   "outputs": [
    {
     "data": {
      "text/html": [
       "<div>\n",
       "<style scoped>\n",
       "    .dataframe tbody tr th:only-of-type {\n",
       "        vertical-align: middle;\n",
       "    }\n",
       "\n",
       "    .dataframe tbody tr th {\n",
       "        vertical-align: top;\n",
       "    }\n",
       "\n",
       "    .dataframe thead th {\n",
       "        text-align: right;\n",
       "    }\n",
       "</style>\n",
       "<table border=\"1\" class=\"dataframe\">\n",
       "  <thead>\n",
       "    <tr style=\"text-align: right;\">\n",
       "      <th></th>\n",
       "      <th>index</th>\n",
       "      <th>app_id</th>\n",
       "      <th>app_name</th>\n",
       "      <th>review_text</th>\n",
       "      <th>review_score</th>\n",
       "      <th>review_votes</th>\n",
       "    </tr>\n",
       "  </thead>\n",
       "  <tbody>\n",
       "    <tr>\n",
       "      <th>0</th>\n",
       "      <td>68092</td>\n",
       "      <td>105600</td>\n",
       "      <td>Terraria</td>\n",
       "      <td>You can be a werewolf riding a unicorn while s...</td>\n",
       "      <td>1</td>\n",
       "      <td>0</td>\n",
       "    </tr>\n",
       "    <tr>\n",
       "      <th>1</th>\n",
       "      <td>68093</td>\n",
       "      <td>105600</td>\n",
       "      <td>Terraria</td>\n",
       "      <td>You should by 8 copies of this game and go aro...</td>\n",
       "      <td>1</td>\n",
       "      <td>0</td>\n",
       "    </tr>\n",
       "    <tr>\n",
       "      <th>2</th>\n",
       "      <td>68094</td>\n",
       "      <td>105600</td>\n",
       "      <td>Terraria</td>\n",
       "      <td>Introduction</td>\n",
       "      <td>1</td>\n",
       "      <td>1</td>\n",
       "    </tr>\n",
       "    <tr>\n",
       "      <th>3</th>\n",
       "      <td>68095</td>\n",
       "      <td>105600</td>\n",
       "      <td>Terraria</td>\n",
       "      <td>If you have friends, this is a great game to p...</td>\n",
       "      <td>1</td>\n",
       "      <td>1</td>\n",
       "    </tr>\n",
       "    <tr>\n",
       "      <th>4</th>\n",
       "      <td>68096</td>\n",
       "      <td>105600</td>\n",
       "      <td>Terraria</td>\n",
       "      <td>A Generic Comparison of Terraria versus Minecr...</td>\n",
       "      <td>1</td>\n",
       "      <td>0</td>\n",
       "    </tr>\n",
       "  </tbody>\n",
       "</table>\n",
       "</div>"
      ],
      "text/plain": [
       "   index  app_id  app_name                                        review_text  \\\n",
       "0  68092  105600  Terraria  You can be a werewolf riding a unicorn while s...   \n",
       "1  68093  105600  Terraria  You should by 8 copies of this game and go aro...   \n",
       "2  68094  105600  Terraria                                       Introduction   \n",
       "3  68095  105600  Terraria  If you have friends, this is a great game to p...   \n",
       "4  68096  105600  Terraria  A Generic Comparison of Terraria versus Minecr...   \n",
       "\n",
       "  review_score review_votes  \n",
       "0            1            0  \n",
       "1            1            0  \n",
       "2            1            1  \n",
       "3            1            1  \n",
       "4            1            0  "
      ]
     },
     "execution_count": 55,
     "metadata": {},
     "output_type": "execute_result"
    }
   ],
   "source": [
    "# You may start here\n",
    "\n",
    "''' \n",
    "This is a program which uses sentiment analysis on a dataset containing a range of \n",
    "steam reviews. Steam is a game launcher which also doubles as a store front, as a result, \n",
    "we get the benefit of reviews. the program will first analyze\n",
    "the reviews and determine whether or not a review is positive, or negative. then the program\n",
    "will add these sentiment values to a new sentiment column. and in the end, we will get the mean\n",
    "of every value within the sentiment column and spit out the mean of every value and provide\n",
    "an 'overall' result.\n",
    "\n",
    "it should look something like this:\n",
    "\" Positivity: 50.4%\n",
    "  Negativity: 49.6%\n",
    "  \n",
    "  Overall: Positive\n",
    "\"\n",
    "\n",
    "'''\n",
    "\n",
    "# we will start by setting up the dataframe\n",
    "\n",
    "#For the sentiment analyzer, We have decided to use the flair library. I have personally chosen\n",
    "#this library due it's automated classification for sentiment.\n",
    "from flair.models import TextClassifier\n",
    "from flair.data import Sentence\n",
    "import pandas as pd\n",
    "\n",
    "#importing the dataset\n",
    "dataframe = pd.read_csv('dataset.csv')\n",
    "\n",
    "#taking the product we would to like analyze\n",
    "dataframe = dataframe[dataframe['app_name'] == 'Terraria']\n",
    "dataframe = dataframe.reset_index()\n",
    "\n",
    "dataframe.head()\n",
    "\n",
    "#review score: explicit value provided by the user to indicate whether the user recommends a game (1) or doesn't (-1)\n",
    "#review vote:  value which indicates if 1 or more people agree with the review (1) or don't (0)"
   ]
  },
  {
   "cell_type": "code",
   "execution_count": 56,
   "metadata": {},
   "outputs": [
    {
     "name": "stdout",
     "output_type": "stream",
     "text": [
      "product name: Terraria\n",
      "columns: 6\n",
      "reviews: 84828\n"
     ]
    },
    {
     "data": {
      "text/html": [
       "<div>\n",
       "<style scoped>\n",
       "    .dataframe tbody tr th:only-of-type {\n",
       "        vertical-align: middle;\n",
       "    }\n",
       "\n",
       "    .dataframe tbody tr th {\n",
       "        vertical-align: top;\n",
       "    }\n",
       "\n",
       "    .dataframe thead th {\n",
       "        text-align: right;\n",
       "    }\n",
       "</style>\n",
       "<table border=\"1\" class=\"dataframe\">\n",
       "  <thead>\n",
       "    <tr style=\"text-align: right;\">\n",
       "      <th></th>\n",
       "      <th>index</th>\n",
       "      <th>app_id</th>\n",
       "    </tr>\n",
       "  </thead>\n",
       "  <tbody>\n",
       "    <tr>\n",
       "      <th>count</th>\n",
       "      <td>84828.000000</td>\n",
       "      <td>84828.0</td>\n",
       "    </tr>\n",
       "    <tr>\n",
       "      <th>mean</th>\n",
       "      <td>110505.500000</td>\n",
       "      <td>105600.0</td>\n",
       "    </tr>\n",
       "    <tr>\n",
       "      <th>std</th>\n",
       "      <td>24487.878655</td>\n",
       "      <td>0.0</td>\n",
       "    </tr>\n",
       "    <tr>\n",
       "      <th>min</th>\n",
       "      <td>68092.000000</td>\n",
       "      <td>105600.0</td>\n",
       "    </tr>\n",
       "    <tr>\n",
       "      <th>25%</th>\n",
       "      <td>89298.750000</td>\n",
       "      <td>105600.0</td>\n",
       "    </tr>\n",
       "    <tr>\n",
       "      <th>50%</th>\n",
       "      <td>110505.500000</td>\n",
       "      <td>105600.0</td>\n",
       "    </tr>\n",
       "    <tr>\n",
       "      <th>75%</th>\n",
       "      <td>131712.250000</td>\n",
       "      <td>105600.0</td>\n",
       "    </tr>\n",
       "    <tr>\n",
       "      <th>max</th>\n",
       "      <td>152919.000000</td>\n",
       "      <td>105600.0</td>\n",
       "    </tr>\n",
       "  </tbody>\n",
       "</table>\n",
       "</div>"
      ],
      "text/plain": [
       "               index    app_id\n",
       "count   84828.000000   84828.0\n",
       "mean   110505.500000  105600.0\n",
       "std     24487.878655       0.0\n",
       "min     68092.000000  105600.0\n",
       "25%     89298.750000  105600.0\n",
       "50%    110505.500000  105600.0\n",
       "75%    131712.250000  105600.0\n",
       "max    152919.000000  105600.0"
      ]
     },
     "execution_count": 56,
     "metadata": {},
     "output_type": "execute_result"
    }
   ],
   "source": [
    "#Data description\n",
    "print(\"product name: \" + dataframe['app_name'][0])\n",
    "print(\"columns: \" + str(len(dataframe.columns.view())))\n",
    "print(\"reviews: \" + str(len(dataframe.index)))\n",
    "dataframe.describe()"
   ]
  },
  {
   "cell_type": "code",
   "execution_count": 57,
   "metadata": {},
   "outputs": [
    {
     "name": "stdout",
     "output_type": "stream",
     "text": [
      "Sentence[1]: \"fine\" → POSITIVE (0.848)\n"
     ]
    }
   ],
   "source": [
    "#loading the Sentiment analyzer from the flair module and loading the 'sentiment' model\n",
    "tag = TextClassifier.load('sentiment')\n",
    "#Sentence function to hold text metadata. helps with sentiment analysis\n",
    "sentence = Sentence('a fine experience')\n",
    "tag.predict(sentence)\n",
    "print(sentence)\n"
   ]
  },
  {
   "cell_type": "code",
   "execution_count": 58,
   "metadata": {},
   "outputs": [],
   "source": [
    "#alternative solution. ignore\n",
    "#dataframe['sentiment'] = dataframe['review_text'].apply(lambda x: tag.predict(Sentence(str(x))))\n",
    "def sentimentPredict(text):\n",
    "    sentence = Sentence(str(text))\n",
    "    tag.predict(sentence)\n",
    "    if sentence.labels:\n",
    "        sentiment = sentence.labels[0].value  # get the value of the first label\n",
    "        return sentiment.lower()  # convert to lowercase\n",
    "    else:\n",
    "        return 'unknown'  # or handle this case differently\n",
    "\n",
    "dataframe['sentiment'] = dataframe['review_text'].apply(sentimentPredict)\n"
   ]
  },
  {
   "cell_type": "code",
   "execution_count": 59,
   "metadata": {},
   "outputs": [],
   "source": [
    "#determine the overall consensus towards the game\n",
    "def overall(pos, neg):\n",
    "    if pos > neg:\n",
    "        return 'positive'\n",
    "    elif neg > pos:\n",
    "        return 'negative'\n",
    "    else:\n",
    "        return 'unknown'"
   ]
  },
  {
   "cell_type": "code",
   "execution_count": 60,
   "metadata": {},
   "outputs": [
    {
     "name": "stdout",
     "output_type": "stream",
     "text": [
      "positive ratings (pre-clean): 80.38501438204366\n",
      "negative ratings (pre-clean): 19.611449049842033\n"
     ]
    }
   ],
   "source": [
    "dataframe['review_score'] = pd.to_numeric(dataframe['review_score'], errors='coerce')\n",
    "\n",
    "pos = str((len(dataframe[dataframe['sentiment'] == 'positive'])/84828)*100)\n",
    "neg = str((len(dataframe[dataframe['sentiment'] == 'negative'])/84828)*100)\n",
    "\n",
    "print('positive ratings (pre-clean): ' + pos) #divided by the number of total reviews\n",
    "print('negative ratings (pre-clean): ' + neg)\n"
   ]
  },
  {
   "cell_type": "code",
   "execution_count": 70,
   "metadata": {},
   "outputs": [],
   "source": [
    "falsepositives = dataframe[(dataframe['review_score'] < 0) & (dataframe['sentiment'] == 'positive')]\n",
    "falsenegatives = dataframe[(dataframe['review_score'] > 0) & (dataframe['sentiment'] == 'negative')]\n",
    "\n",
    "#temporary dataframe created for measurements\n",
    "tempdata = dataframe\n",
    "tempdata = tempdata.drop(falsepositives.index)\n",
    "tempdata = tempdata.drop(falsenegatives.index)\n",
    "\n",
    "falsepositives = falsepositives.reset_index(drop=True)\n",
    "falsenegatives = falsenegatives.reset_index(drop=True)\n",
    "\n",
    "#falsenegatives.head()\n",
    "#falsepositives.head()"
   ]
  },
  {
   "cell_type": "code",
   "execution_count": 71,
   "metadata": {},
   "outputs": [
    {
     "name": "stdout",
     "output_type": "stream",
     "text": [
      "positive ratings: 80.02899985853728\n",
      "negative ratings: 2.6818974866789267\n",
      "overall: positive\n"
     ]
    }
   ],
   "source": [
    "pos = str((len(tempdata[tempdata['sentiment'] == 'positive'])/84828)*100)\n",
    "neg = str((len(tempdata[tempdata['sentiment'] == 'negative'])/84828)*100)\n",
    "\n",
    "#a large amount of negative reviews were dropped. will explain at the end\n",
    "print('positive ratings: ' + pos)\n",
    "print('negative ratings: ' + neg)\n",
    "\n",
    "print('overall: ' + overall(pos, neg))\n"
   ]
  },
  {
   "cell_type": "code",
   "execution_count": 72,
   "metadata": {},
   "outputs": [
    {
     "name": "stdout",
     "output_type": "stream",
     "text": [
      "unfiltered\n"
     ]
    },
    {
     "data": {
      "image/png": "[encoded data removed]",
      "text/plain": [
       "<Figure size 640x480 with 1 Axes>"
      ]
     },
     "metadata": {},
     "output_type": "display_data"
    },
    {
     "name": "stdout",
     "output_type": "stream",
     "text": [
      "filtered\n"
     ]
    },
    {
     "data": {
      "image/png": "[encoded data removed]",
      "text/plain": [
       "<Figure size 640x480 with 1 Axes>"
      ]
     },
     "metadata": {},
     "output_type": "display_data"
    }
   ],
   "source": [
    "import matplotlib.pyplot as plt\n",
    "\n",
    "print('unfiltered')\n",
    "dataframe['sentiment'].value_counts().plot(kind=\"pie\")\n",
    "plt.show()\n",
    "\n",
    "print('filtered')\n",
    "tempdata['sentiment'].value_counts().plot(kind=\"pie\")\n",
    "plt.show()"
   ]
  },
  {
   "cell_type": "code",
   "execution_count": 92,
   "metadata": {},
   "outputs": [
    {
     "name": "stdout",
     "output_type": "stream",
     "text": [
      "There is only one way to describe this game: ♥♥♥♥♥♥♥♥♥♥♥♥♥♥♥♥♥♥ ♥♥♥♥♥♥♥♥♥ ♥♥♥ ♥♥♥♥♥♥♥♥♥♥♥♥♥♥♥ ♥ ♥♥ ♥♥♥♥♥ ♥♥♥♥♥♥♥ ♥♥♥♥♥♥♥♥♥♥♥♥♥♥♥♥♥♥♥♥♥♥♥♥♥♥♥♥♥♥♥♥♥♥♥♥♥♥♥♥♥\n",
      "prediction: POSITIVE\n",
      "\n",
      "this is a result of the sentiment analyzer not being able to handle the heart unicode (♥).\n",
      "steam censors profanity using this unicode and since the sentiment analyzer can't process it, \n",
      "it ends up working with what it can.\n"
     ]
    }
   ],
   "source": [
    "example = falsepositives[\"review_text\"][10]\n",
    "sentence = Sentence(example)\n",
    "tag.predict(sentence)\n",
    "print(example)\n",
    "print('prediction: ' + sentence.labels[0].value)\n",
    "\n",
    "print('''\\nthis is a result of the sentiment analyzer not being able to handle the heart unicode (♥).\n",
    "steam censors profanity using this unicode and since the sentiment analyzer can't process it, \n",
    "it ends up working with what it can.''')\n"
   ]
  },
  {
   "cell_type": "code",
   "execution_count": 93,
   "metadata": {},
   "outputs": [],
   "source": [
    "dataframe.to_csv('data.csv')"
   ]
  }
 ],
 "metadata": {
  "kernelspec": {
   "display_name": "Python 3",
   "language": "python",
   "name": "python3"
  },
  "language_info": {
   "codemirror_mode": {
    "name": "ipython",
    "version": 3
   },
   "file_extension": ".py",
   "mimetype": "text/x-python",
   "name": "python",
   "nbconvert_exporter": "python",
   "pygments_lexer": "ipython3",
   "version": "3.12.1"
  }
 },
 "nbformat": 4,
 "nbformat_minor": 2
}
