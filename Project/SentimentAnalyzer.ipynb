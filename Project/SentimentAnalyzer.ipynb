{
 "cells": [
  {
   "cell_type": "code",
   "execution_count": 153,
   "metadata": {},
   "outputs": [],
   "source": [
    "#And this project (Task 0) I'm working On making a semple sentiment analyzer.\n",
    "#I use pandas to extract information and textblob to get the sentiment of the review and used matplotlib.pyplot To visualize the results.\n",
    "from textblob import TextBlob \n",
    "import pandas as pd\n",
    "import nltk\n",
    "import matplotlib.pyplot as plt\n"
   ]
  },
  {
   "cell_type": "code",
   "execution_count": 154,
   "metadata": {},
   "outputs": [
    {
     "name": "stderr",
     "output_type": "stream",
     "text": [
      "C:\\Users\\emad_\\AppData\\Local\\Temp\\ipykernel_11512\\4031553215.py:2: DtypeWarning: Columns (1,10) have mixed types. Specify dtype option on import or set low_memory=False.\n",
      "  info = pd.read_csv('data.csv')\n"
     ]
    }
   ],
   "source": [
    "#Here I take the data set which is about kindle reviews in Amazon\n",
    "info = pd.read_csv('data.csv')"
   ]
  },
  {
   "cell_type": "code",
   "execution_count": 155,
   "metadata": {},
   "outputs": [],
   "source": [
    "#I categorize the reviews of each person as three possible Outcomes\n",
    "dictionary= {\"positive\": 0, \"negative\": 0, \"neutral\": 0}\n"
   ]
  },
  {
   "cell_type": "code",
   "execution_count": 156,
   "metadata": {},
   "outputs": [],
   "source": [
    "#The algorithm that categorize the reviews.\n",
    "numOfReviews = int(info['reviews.text'].count())\n",
    "for i in range(numOfReviews):\n",
    "\n",
    "    blob = TextBlob(str(info['reviews.text'][i]))\n",
    "    sentimen = blob.sentiment.polarity\n",
    "    if sentimen < -0.2:\n",
    "        dictionary[\"negative\"] += 1\n",
    "    elif sentimen > 0.2:\n",
    "        dictionary[\"positive\"] += 1\n",
    "    else:\n",
    "        dictionary[\"neutral\"] += 1\n"
   ]
  },
  {
   "cell_type": "code",
   "execution_count": 157,
   "metadata": {},
   "outputs": [
    {
     "name": "stdout",
     "output_type": "stream",
     "text": [
      "{'positive': 25999, 'negative': 365, 'neutral': 8295}\n"
     ]
    }
   ],
   "source": [
    "#Checking the numbers\n",
    "print(dictionary)"
   ]
  },
  {
   "cell_type": "code",
   "execution_count": 158,
   "metadata": {},
   "outputs": [],
   "source": [
    "#Method to visualize the outcome.\n",
    "def plot_dictionary(dictionary):\n",
    "    keys = dictionary.keys()\n",
    "    values = dictionary.values()\n",
    "    plt.title('Dictionary Bar')\n",
    "    plt.bar(keys, values)\n",
    "    \n"
   ]
  },
  {
   "cell_type": "code",
   "execution_count": 159,
   "metadata": {},
   "outputs": [
    {
     "data": {
      "image/png": "[encoded data removed]",
      "text/plain": [
       "<Figure size 640x480 with 1 Axes>"
      ]
     },
     "metadata": {},
     "output_type": "display_data"
    }
   ],
   "source": [
    "#Calling the method.\n",
    "plot_dictionary(dictionary)\n",
    "#Here we find that most of the reviews are positive bought kindle electronic book Some are neutral and the least are negative."
   ]
  }
 ],
 "metadata": {
  "kernelspec": {
   "display_name": "Python 3",
   "language": "python",
   "name": "python3"
  },
  "language_info": {
   "codemirror_mode": {
    "name": "ipython",
    "version": 3
   },
   "file_extension": ".py",
   "mimetype": "text/x-python",
   "name": "python",
   "nbconvert_exporter": "python",
   "pygments_lexer": "ipython3",
   "version": "3.11.5"
  }
 },
 "nbformat": 4,
 "nbformat_minor": 2
}
